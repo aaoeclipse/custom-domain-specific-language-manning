{
 "cells": [
  {
   "cell_type": "markdown",
   "metadata": {},
   "source": [
    "# N Gram Language model"
   ]
  },
  {
   "cell_type": "markdown",
   "metadata": {},
   "source": [
    "\n",
    "- Generate text and complete queries from sequences of n-grams, using temperature sampling to tune the randomness of the generated text.\n",
    "- Calculate the probability of a sentence and select the most probable sentence among several candidates.\n",
    "- Score the quality of the language model using perplexity.\n",
    "- Handle out-of-vocabulary (OOV) tokens with Laplace smoothing.\n"
   ]
  },
  {
   "cell_type": "markdown",
   "metadata": {},
   "source": [
    "## Data structure\n",
    "\n",
    "We want to avoid having to build and keep in memory a large matrix of all the prefixes and all the tokens in the corpus. Such a matrix would also be mostly filled with zeroes.\n",
    "\n",
    "The choice of an optimal and efficient data structure is up to you. However, we have found that using a defaultdict(Counter) is quite efficient for avoiding the need to keep in memory a very large matrix of all the prefixes and all the tokens in the corpus.\n",
    "\n",
    "That data structure will have existing prefixes (tuples) as keys of the defaultdict and a list of tokens and their respective frequencies as the Counter dictionary.\n",
    "\n",
    "For instance, see the following examples:\n",
    "\n",
    "    freq = defaultdict(Counter)\n",
    "    freq[('how', 'many')] = Counter('people': 0.56, 'times': 0.31, 'does': 0.02, ...)\n",
    "    freq[('the','model')] = Counter('parameters': 0.43, '.': 0.21, 'is': 0.08, ....)\n",
    "\n"
   ]
  },
  {
   "cell_type": "markdown",
   "metadata": {},
   "source": [
    "## Workflow\n",
    "\n",
    "1. Split the dataset into a training and a testing subset. Use the category “title” for the testing set and the categories “comment” and “post” for the training set. The short length of titles will make them good candidates later as seeds for text generation. \n",
    "\n",
    "2. Build the matrix of prefix—word frequencies.\n",
    "- Use the ngrams function from nltk.utils to generate all n-grams from the corpus.\n",
    "- Set the following: left_pad_symbol = <s> and right_pad_symbol = </s>.\n",
    "\n",
    "\n",
    "3. Write a text generation function with the following features:\n",
    "- Takes a bigram as input and generates the next token\n",
    "- Iteratively slides the prefix over the generated text so that the new prefix includes the most recent token; generates the next token\n",
    "- To generate each next token, samples the list of words associated with the prefix using the probability distribution of the prefix\n",
    "- Stops the text generation when a certain number of words have been generated or the latest token is a </s>\n",
    "\n",
    "4. Write a function that can estimate the probability of a sentence and use it to select the most probable sentence out of several candidate sentences.\n",
    "- Split the sentence into trigrams and use the chain rule to calculate the probability of the sentence as a product of the bigrams—tokens probabilities.\n",
    "\n",
    "5. Implement the perplexity scoring function for a given sentence and for the training corpus.\n",
    "\n",
    "6. Implement additive Laplace smoothing to give a non-zero probability to missing prefix—token combinations when calculating perplexity.\n",
    "\n",
    "7. Calculate the perplexity of the language model on the test set composed of titles.\n",
    "\n",
    "8. Try to improve the perplexity score of your model as follows:\n",
    "- Modify the preprocessing phase of the corpus.\n",
    "- Increase or decrease the number of tokens in the model (bigrams, 4-grams, and so on).\n",
    "- Vary the delta parameter in the additive Laplace smoothing step"
   ]
  },
  {
   "cell_type": "code",
   "execution_count": 1,
   "metadata": {},
   "outputs": [],
   "source": [
    "# We will work with trigrams \n",
    "ngrams_degree = 3"
   ]
  },
  {
   "cell_type": "code",
   "execution_count": 2,
   "metadata": {},
   "outputs": [],
   "source": [
    "import pandas as pd"
   ]
  },
  {
   "cell_type": "code",
   "execution_count": 3,
   "metadata": {},
   "outputs": [],
   "source": [
    "df = pd.read_csv(\"stackexchange_812k.tokenized.csv\").sample(frac=1, random_state=8).reset_index(drop=True)"
   ]
  },
  {
   "cell_type": "code",
   "execution_count": 4,
   "metadata": {},
   "outputs": [
    {
     "data": {
      "text/html": [
       "<div>\n",
       "<style scoped>\n",
       "    .dataframe tbody tr th:only-of-type {\n",
       "        vertical-align: middle;\n",
       "    }\n",
       "\n",
       "    .dataframe tbody tr th {\n",
       "        vertical-align: top;\n",
       "    }\n",
       "\n",
       "    .dataframe thead th {\n",
       "        text-align: right;\n",
       "    }\n",
       "</style>\n",
       "<table border=\"1\" class=\"dataframe\">\n",
       "  <thead>\n",
       "    <tr style=\"text-align: right;\">\n",
       "      <th></th>\n",
       "      <th>post_id</th>\n",
       "      <th>parent_id</th>\n",
       "      <th>comment_id</th>\n",
       "      <th>text</th>\n",
       "      <th>category</th>\n",
       "      <th>tokens</th>\n",
       "      <th>n_tokens</th>\n",
       "    </tr>\n",
       "  </thead>\n",
       "  <tbody>\n",
       "    <tr>\n",
       "      <th>43326</th>\n",
       "      <td>185764</td>\n",
       "      <td>NaN</td>\n",
       "      <td>NaN</td>\n",
       "      <td>Check predicted Data by observed Data, how goo...</td>\n",
       "      <td>title</td>\n",
       "      <td>check predicted data by observed data , how go...</td>\n",
       "      <td>14</td>\n",
       "    </tr>\n",
       "    <tr>\n",
       "      <th>381692</th>\n",
       "      <td>362578</td>\n",
       "      <td>NaN</td>\n",
       "      <td>681147.0</td>\n",
       "      <td>Thanks for the answer! Regarding the question ...</td>\n",
       "      <td>comment</td>\n",
       "      <td>thanks for the answer ! regarding the question...</td>\n",
       "      <td>115</td>\n",
       "    </tr>\n",
       "    <tr>\n",
       "      <th>536791</th>\n",
       "      <td>165071</td>\n",
       "      <td>NaN</td>\n",
       "      <td>488767.0</td>\n",
       "      <td>Discriminate models do not have an inherent wi...</td>\n",
       "      <td>comment</td>\n",
       "      <td>discriminate models do not have an inherent wi...</td>\n",
       "      <td>96</td>\n",
       "    </tr>\n",
       "  </tbody>\n",
       "</table>\n",
       "</div>"
      ],
      "text/plain": [
       "        post_id  parent_id  comment_id  \\\n",
       "43326    185764        NaN         NaN   \n",
       "381692   362578        NaN    681147.0   \n",
       "536791   165071        NaN    488767.0   \n",
       "\n",
       "                                                     text category  \\\n",
       "43326   Check predicted Data by observed Data, how goo...    title   \n",
       "381692  Thanks for the answer! Regarding the question ...  comment   \n",
       "536791  Discriminate models do not have an inherent wi...  comment   \n",
       "\n",
       "                                                   tokens  n_tokens  \n",
       "43326   check predicted data by observed data , how go...        14  \n",
       "381692  thanks for the answer ! regarding the question...       115  \n",
       "536791  discriminate models do not have an inherent wi...        96  "
      ]
     },
     "execution_count": 4,
     "metadata": {},
     "output_type": "execute_result"
    }
   ],
   "source": [
    "df.sample(3)"
   ]
  },
  {
   "cell_type": "code",
   "execution_count": 5,
   "metadata": {},
   "outputs": [],
   "source": [
    "df['tokens'] = df.tokens.apply(lambda txt : txt.split())"
   ]
  },
  {
   "cell_type": "code",
   "execution_count": 6,
   "metadata": {},
   "outputs": [
    {
     "data": {
      "text/html": [
       "<div>\n",
       "<style scoped>\n",
       "    .dataframe tbody tr th:only-of-type {\n",
       "        vertical-align: middle;\n",
       "    }\n",
       "\n",
       "    .dataframe tbody tr th {\n",
       "        vertical-align: top;\n",
       "    }\n",
       "\n",
       "    .dataframe thead th {\n",
       "        text-align: right;\n",
       "    }\n",
       "</style>\n",
       "<table border=\"1\" class=\"dataframe\">\n",
       "  <thead>\n",
       "    <tr style=\"text-align: right;\">\n",
       "      <th></th>\n",
       "      <th>post_id</th>\n",
       "      <th>parent_id</th>\n",
       "      <th>comment_id</th>\n",
       "      <th>text</th>\n",
       "      <th>category</th>\n",
       "      <th>tokens</th>\n",
       "      <th>n_tokens</th>\n",
       "    </tr>\n",
       "  </thead>\n",
       "  <tbody>\n",
       "    <tr>\n",
       "      <th>135039</th>\n",
       "      <td>155702</td>\n",
       "      <td>NaN</td>\n",
       "      <td>296806.0</td>\n",
       "      <td>Just a nitpicky thing, but what is returned by...</td>\n",
       "      <td>comment</td>\n",
       "      <td>[just, a, nitpicky, thing, ,, but, what, is, r...</td>\n",
       "      <td>29</td>\n",
       "    </tr>\n",
       "    <tr>\n",
       "      <th>127186</th>\n",
       "      <td>257166</td>\n",
       "      <td>NaN</td>\n",
       "      <td>491280.0</td>\n",
       "      <td>How much RAM do you have on your machine?</td>\n",
       "      <td>comment</td>\n",
       "      <td>[how, much, ram, do, you, have, on, your, mach...</td>\n",
       "      <td>10</td>\n",
       "    </tr>\n",
       "    <tr>\n",
       "      <th>728474</th>\n",
       "      <td>137008</td>\n",
       "      <td>NaN</td>\n",
       "      <td>261063.0</td>\n",
       "      <td>I would like to have more information too but ...</td>\n",
       "      <td>comment</td>\n",
       "      <td>[i, would, like, to, have, more, information, ...</td>\n",
       "      <td>52</td>\n",
       "    </tr>\n",
       "  </tbody>\n",
       "</table>\n",
       "</div>"
      ],
      "text/plain": [
       "        post_id  parent_id  comment_id  \\\n",
       "135039   155702        NaN    296806.0   \n",
       "127186   257166        NaN    491280.0   \n",
       "728474   137008        NaN    261063.0   \n",
       "\n",
       "                                                     text category  \\\n",
       "135039  Just a nitpicky thing, but what is returned by...  comment   \n",
       "127186          How much RAM do you have on your machine?  comment   \n",
       "728474  I would like to have more information too but ...  comment   \n",
       "\n",
       "                                                   tokens  n_tokens  \n",
       "135039  [just, a, nitpicky, thing, ,, but, what, is, r...        29  \n",
       "127186  [how, much, ram, do, you, have, on, your, mach...        10  \n",
       "728474  [i, would, like, to, have, more, information, ...        52  "
      ]
     },
     "execution_count": 6,
     "metadata": {},
     "output_type": "execute_result"
    }
   ],
   "source": [
    "df.sample(3)"
   ]
  },
  {
   "cell_type": "code",
   "execution_count": 7,
   "metadata": {},
   "outputs": [],
   "source": [
    "split_index = int(len(df) * 0.8)\n",
    "df_train = df[df.category.isin(['post', 'comment'])].copy()\n",
    "df_test = df[df.category.isin(['title'])].copy()"
   ]
  },
  {
   "cell_type": "code",
   "execution_count": 8,
   "metadata": {},
   "outputs": [
    {
     "name": "stdout",
     "output_type": "stream",
     "text": [
      "-- Training set: (705964, 7)\n",
      "\n",
      "   post_id  parent_id  comment_id  \\\n",
      "0   161009        NaN    309845.0   \n",
      "1    77562        NaN         NaN   \n",
      "2    96622    96351.0         NaN   \n",
      "3   299263        NaN         NaN   \n",
      "4   168874   162942.0         NaN   \n",
      "\n",
      "                                                text category  \\\n",
      "0  I can't disclose the algorithm, but I can cert...  comment   \n",
      "1  I just discovered by mistake that raw data and...     post   \n",
      "2  Even though this question already has an accep...     post   \n",
      "3  When you toss a coin, say, times, are there tw...     post   \n",
      "4  Your approaches boil down to one single underl...     post   \n",
      "\n",
      "                                              tokens  n_tokens  \n",
      "0  [i, can, ', t, disclose, the, algorithm, ,, bu...        40  \n",
      "1  [i, just, discovered, by, mistake, that, raw, ...        81  \n",
      "2  [even, though, this, question, already, has, a...       829  \n",
      "3  [when, you, toss, a, coin, ,, say, ,, times, ,...        66  \n",
      "4  [your, approaches, boil, down, to, one, single...        65  \n",
      "\n",
      "-- Testing set (83685, 7)\n",
      "\n",
      "    post_id  parent_id  comment_id  \\\n",
      "11   322609        NaN         NaN   \n",
      "34   270627        NaN         NaN   \n",
      "47   109216        NaN         NaN   \n",
      "60     1998        NaN         NaN   \n",
      "67   148745        NaN         NaN   \n",
      "\n",
      "                                                 text category  \\\n",
      "11  Comparing the slope of several regression line...    title   \n",
      "34  How to discuss the results of this meta-analysis?    title   \n",
      "47                   Regression on wavy angular data?    title   \n",
      "60  How problematic is it to control for non-indep...    title   \n",
      "67  Understanding a Sufficient Statistic relative ...    title   \n",
      "\n",
      "                                               tokens  n_tokens  \n",
      "11  [comparing, the, slope, of, several, regressio...        13  \n",
      "34  [how, to, discuss, the, results, of, this, met...        11  \n",
      "47           [regression, on, wavy, angular, data, ?]         6  \n",
      "60  [how, problematic, is, it, to, control, for, n...        23  \n",
      "67  [understanding, a, sufficient, statistic, rela...         9  \n"
     ]
    }
   ],
   "source": [
    "# Display the dimensions of the dataframe \n",
    "print(\"-- Training set: {}\\n\".format(df_train.shape))\n",
    "# and the 1st 5 lines\n",
    "print(df_train.head())\n",
    "\n",
    "print(\"\\n-- Testing set {}\\n\".format(df_test.shape))\n",
    "print(df_test.head())"
   ]
  },
  {
   "cell_type": "code",
   "execution_count": 9,
   "metadata": {},
   "outputs": [
    {
     "name": "stderr",
     "output_type": "stream",
     "text": [
      "100%|██████████| 705964/705964 [01:16<00:00, 9202.03it/s] \n"
     ]
    }
   ],
   "source": [
    "from nltk import ngrams\n",
    "from collections import defaultdict, Counter\n",
    "from tqdm import tqdm\n",
    "\n",
    "counts = defaultdict(Counter)\n",
    "\n",
    "for tokens in tqdm(df_train.tokens.values):\n",
    "    for ngram in ngrams(\n",
    "          tokens, \n",
    "          n= ngrams_degree,  \n",
    "          pad_right=True, \n",
    "          pad_left=True, \n",
    "          left_pad_symbol=\"<s>\", \n",
    "          right_pad_symbol=\"</s>\"):\n",
    "      \n",
    "        prefix = ngram[:ngrams_degree-1]\n",
    "        token = ngram[ngrams_degree-1]\n",
    "        counts[prefix][token] +=1"
   ]
  },
  {
   "cell_type": "code",
   "execution_count": 10,
   "metadata": {},
   "outputs": [
    {
     "name": "stdout",
     "output_type": "stream",
     "text": [
      "we have 3315978 bigrams\n"
     ]
    }
   ],
   "source": [
    "print(\"we have {} bigrams\".format(len(counts.keys())))"
   ]
  },
  {
   "cell_type": "code",
   "execution_count": 11,
   "metadata": {},
   "outputs": [
    {
     "name": "stdout",
     "output_type": "stream",
     "text": [
      "('tongues', 'tougher'): \tCounter({'or': 1})\n",
      "('religion', 'it'): \tCounter({\"'\": 1})\n",
      "('letter', 'subscript'): \tCounter({'with': 1})\n",
      "('guitar', 'in'): \tCounter({'an': 1})\n",
      "('the', 'cvs'): \tCounter({',': 1, 'of': 1, 'were': 1, '.': 1, 'so': 1, 'to': 1})\n"
     ]
    }
   ],
   "source": [
    "import random\n",
    "\n",
    "for i in range(5):\n",
    "    prefix = random.choice(list(counts.keys()))\n",
    "    print(\"{}: \\t{}\".format(prefix,counts[prefix]))"
   ]
  },
  {
   "cell_type": "code",
   "execution_count": 12,
   "metadata": {},
   "outputs": [],
   "source": [
    "tokens_count = [ len(v)   for k,v in counts.items() ]"
   ]
  },
  {
   "cell_type": "code",
   "execution_count": 13,
   "metadata": {},
   "outputs": [
    {
     "data": {
      "text/plain": [
       "(array([3.303251e+06, 7.750000e+03, 2.285000e+03, 9.900000e+02,\n",
       "        5.560000e+02, 3.170000e+02, 2.210000e+02, 1.410000e+02,\n",
       "        1.030000e+02, 7.400000e+01, 5.100000e+01, 2.800000e+01,\n",
       "        2.400000e+01, 2.500000e+01, 2.400000e+01, 1.500000e+01,\n",
       "        2.000000e+01, 9.000000e+00, 1.800000e+01, 7.000000e+00,\n",
       "        5.000000e+00, 7.000000e+00, 2.000000e+00, 4.000000e+00,\n",
       "        2.000000e+00, 3.000000e+00, 2.000000e+00, 3.000000e+00,\n",
       "        5.000000e+00, 3.000000e+00, 4.000000e+00, 3.000000e+00,\n",
       "        1.000000e+00, 3.000000e+00, 0.000000e+00, 0.000000e+00,\n",
       "        1.000000e+00, 3.000000e+00, 0.000000e+00, 1.000000e+00,\n",
       "        1.000000e+00, 0.000000e+00, 1.000000e+00, 1.000000e+00,\n",
       "        0.000000e+00, 0.000000e+00, 1.000000e+00, 0.000000e+00,\n",
       "        2.000000e+00, 0.000000e+00, 1.000000e+00, 0.000000e+00,\n",
       "        0.000000e+00, 0.000000e+00, 0.000000e+00, 0.000000e+00,\n",
       "        1.000000e+00, 2.000000e+00, 1.000000e+00, 0.000000e+00,\n",
       "        0.000000e+00, 0.000000e+00, 1.000000e+00, 0.000000e+00,\n",
       "        0.000000e+00, 0.000000e+00, 1.000000e+00, 1.000000e+00,\n",
       "        0.000000e+00, 1.000000e+00, 0.000000e+00, 0.000000e+00,\n",
       "        0.000000e+00, 0.000000e+00, 0.000000e+00, 0.000000e+00,\n",
       "        0.000000e+00, 0.000000e+00, 0.000000e+00, 0.000000e+00,\n",
       "        0.000000e+00, 0.000000e+00, 0.000000e+00, 0.000000e+00,\n",
       "        0.000000e+00, 0.000000e+00, 0.000000e+00, 0.000000e+00,\n",
       "        0.000000e+00, 0.000000e+00, 0.000000e+00, 0.000000e+00,\n",
       "        0.000000e+00, 1.000000e+00, 0.000000e+00, 0.000000e+00,\n",
       "        0.000000e+00, 0.000000e+00, 0.000000e+00, 1.000000e+00]),\n",
       " array([1.000000e+00, 1.159600e+02, 2.309200e+02, 3.458800e+02,\n",
       "        4.608400e+02, 5.758000e+02, 6.907600e+02, 8.057200e+02,\n",
       "        9.206800e+02, 1.035640e+03, 1.150600e+03, 1.265560e+03,\n",
       "        1.380520e+03, 1.495480e+03, 1.610440e+03, 1.725400e+03,\n",
       "        1.840360e+03, 1.955320e+03, 2.070280e+03, 2.185240e+03,\n",
       "        2.300200e+03, 2.415160e+03, 2.530120e+03, 2.645080e+03,\n",
       "        2.760040e+03, 2.875000e+03, 2.989960e+03, 3.104920e+03,\n",
       "        3.219880e+03, 3.334840e+03, 3.449800e+03, 3.564760e+03,\n",
       "        3.679720e+03, 3.794680e+03, 3.909640e+03, 4.024600e+03,\n",
       "        4.139560e+03, 4.254520e+03, 4.369480e+03, 4.484440e+03,\n",
       "        4.599400e+03, 4.714360e+03, 4.829320e+03, 4.944280e+03,\n",
       "        5.059240e+03, 5.174200e+03, 5.289160e+03, 5.404120e+03,\n",
       "        5.519080e+03, 5.634040e+03, 5.749000e+03, 5.863960e+03,\n",
       "        5.978920e+03, 6.093880e+03, 6.208840e+03, 6.323800e+03,\n",
       "        6.438760e+03, 6.553720e+03, 6.668680e+03, 6.783640e+03,\n",
       "        6.898600e+03, 7.013560e+03, 7.128520e+03, 7.243480e+03,\n",
       "        7.358440e+03, 7.473400e+03, 7.588360e+03, 7.703320e+03,\n",
       "        7.818280e+03, 7.933240e+03, 8.048200e+03, 8.163160e+03,\n",
       "        8.278120e+03, 8.393080e+03, 8.508040e+03, 8.623000e+03,\n",
       "        8.737960e+03, 8.852920e+03, 8.967880e+03, 9.082840e+03,\n",
       "        9.197800e+03, 9.312760e+03, 9.427720e+03, 9.542680e+03,\n",
       "        9.657640e+03, 9.772600e+03, 9.887560e+03, 1.000252e+04,\n",
       "        1.011748e+04, 1.023244e+04, 1.034740e+04, 1.046236e+04,\n",
       "        1.057732e+04, 1.069228e+04, 1.080724e+04, 1.092220e+04,\n",
       "        1.103716e+04, 1.115212e+04, 1.126708e+04, 1.138204e+04,\n",
       "        1.149700e+04]),\n",
       " <BarContainer object of 100 artists>)"
      ]
     },
     "execution_count": 13,
     "metadata": {},
     "output_type": "execute_result"
    },
    {
     "data": {
      "image/png": "[encoded data removed]",
      "text/plain": [
       "<Figure size 1200x600 with 1 Axes>"
      ]
     },
     "metadata": {},
     "output_type": "display_data"
    }
   ],
   "source": [
    "import matplotlib.pyplot as plt\n",
    "fig, ax = plt.subplots(1,1, figsize=(12,6))\n",
    "plt.hist(tokens_count, bins = 100)"
   ]
  },
  {
   "cell_type": "code",
   "execution_count": 14,
   "metadata": {},
   "outputs": [
    {
     "name": "stdout",
     "output_type": "stream",
     "text": [
      "2132871 bigrams_with_single_tokens\n",
      "444606 bigrams_with_two_tokens\n"
     ]
    }
   ],
   "source": [
    "bigrams_with_single_tokens = [ k   for k,v in counts.items() if len(v) == 1 ]\n",
    "bigrams_with_two_tokens = [ k   for k,v in counts.items() if len(v) == 2 ]\n",
    "\n",
    "print(\"{} bigrams_with_single_tokens\".format(len(bigrams_with_single_tokens)))\n",
    "print(\"{} bigrams_with_two_tokens\".format(len(bigrams_with_two_tokens)))"
   ]
  },
  {
   "cell_type": "code",
   "execution_count": 15,
   "metadata": {},
   "outputs": [
    {
     "data": {
      "text/plain": [
       "{('<s>', '<s>'): 11497, ('of', 'the'): 10786}"
      ]
     },
     "execution_count": 15,
     "metadata": {},
     "output_type": "execute_result"
    }
   ],
   "source": [
    "tokens_dict = { k:len(v)   for k,v in counts.items() if len(v) > 10000 }\n",
    "tokens_dict"
   ]
  },
  {
   "cell_type": "markdown",
   "metadata": {},
   "source": [
    "$$p(\\text{token}/\\text{prefix}) = \\frac{\\text{count}(\\text{prefix}+\\text{token})}{\\text{count}(\\text{prefix})}$$"
   ]
  },
  {
   "cell_type": "code",
   "execution_count": 16,
   "metadata": {},
   "outputs": [],
   "source": [
    "freq = defaultdict(dict)\n",
    "for prefix, tokens in counts.items():\n",
    "    total = sum( counts[prefix].values()  )\n",
    "    for token, c in tokens.items():\n",
    "        freq[prefix][token] = c / total"
   ]
  },
  {
   "cell_type": "code",
   "execution_count": 17,
   "metadata": {},
   "outputs": [
    {
     "name": "stdout",
     "output_type": "stream",
     "text": [
      "('f', 'notf'): \t{'.': 1.0}\n",
      "('t', 'coefficients'): \t{'essentially': 0.25, 'be': 0.25, 'beta': 0.25, 'intercept': 0.25}\n",
      "('eye', 'len'): \t{'beta': 0.6666666666666666, 'labels': 0.3333333333333333}\n",
      "('what', 'place'): \t{'each': 0.5, 'for': 0.5}\n",
      "('zones', 'being'): \t{'so': 1.0}\n"
     ]
    }
   ],
   "source": [
    "for i in range(5):\n",
    "    prefix = random.choice(list(freq.keys()))\n",
    "    print(\"{}: \\t{}\".format(prefix,freq[prefix]))"
   ]
  },
  {
   "cell_type": "code",
   "execution_count": 20,
   "metadata": {},
   "outputs": [],
   "source": [
    "import numpy as np\n",
    "\n",
    "def generate(text, n_words=40):\n",
    "    global ngrams_degree\n",
    "    for i in range(n_words):\n",
    "        prefix = tuple(text.split()[-ngrams_degree+1:])\n",
    "        # no available text\n",
    "        if len(freq[prefix]) == 0:\n",
    "            break\n",
    "        candidates = list(freq[prefix].keys())\n",
    "        probas = list(freq[prefix].values())\n",
    "        text += ' ' + np.random.choice(candidates, p = probas)\n",
    "        if text.endswith('<\\s>'):\n",
    "            break\n",
    "\n",
    "    return text"
   ]
  },
  {
   "cell_type": "code",
   "execution_count": 23,
   "metadata": {},
   "outputs": [
    {
     "name": "stdout",
     "output_type": "stream",
     "text": [
      "\n",
      "the model ' s of thousands of variables , and this lecture notes . i should not be there is a case that is left is stationary because arima is not necessarily an issue , i ' m absolutely happy to know\n",
      "\n",
      "that distribution change with varying window size window and the latter , provided there is no generally accepted idea . given this , first in the light disappears . if you ' re asking it here . </s> </s>\n",
      "\n",
      "to determine the entrees for the clarification . </s> </s>\n"
     ]
    }
   ],
   "source": [
    "text      = 'the model'\n",
    "print()\n",
    "print(generate(text))\n",
    "\n",
    "print()\n",
    "text      = 'that distribution'\n",
    "print(generate(text))\n",
    "\n",
    "print()\n",
    "text      = 'to determine'\n",
    "print(generate(text))"
   ]
  },
  {
   "cell_type": "code",
   "execution_count": null,
   "metadata": {},
   "outputs": [],
   "source": []
  }
 ],
 "metadata": {
  "kernelspec": {
   "display_name": ".venv",
   "language": "python",
   "name": "python3"
  },
  "language_info": {
   "codemirror_mode": {
    "name": "ipython",
    "version": 3
   },
   "file_extension": ".py",
   "mimetype": "text/x-python",
   "name": "python",
   "nbconvert_exporter": "python",
   "pygments_lexer": "ipython3",
   "version": "3.10.12"
  }
 },
 "nbformat": 4,
 "nbformat_minor": 2
}
