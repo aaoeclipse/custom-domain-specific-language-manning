{
 "cells": [
  {
   "cell_type": "code",
   "execution_count": 1,
   "metadata": {},
   "outputs": [],
   "source": [
    "import pandas as pd\n",
    "import re\n",
    "# import nltk\n",
    "# nltk.download('punkt')\n",
    "# nltk.download('wordnet')\n",
    "# from nltk.tokenize import word_tokenize, sent_tokenize"
   ]
  },
  {
   "cell_type": "code",
   "execution_count": 2,
   "metadata": {},
   "outputs": [],
   "source": [
    "# python -m spacy download en # in terminal"
   ]
  },
  {
   "cell_type": "code",
   "execution_count": 3,
   "metadata": {},
   "outputs": [],
   "source": [
    "df = pd.read_csv('stackexchange_812k.csv')"
   ]
  },
  {
   "cell_type": "code",
   "execution_count": 4,
   "metadata": {},
   "outputs": [
    {
     "data": {
      "text/plain": [
       "Index(['post_id', 'parent_id', 'comment_id', 'text', 'category'], dtype='object')"
      ]
     },
     "execution_count": 4,
     "metadata": {},
     "output_type": "execute_result"
    }
   ],
   "source": [
    "df.columns"
   ]
  },
  {
   "cell_type": "code",
   "execution_count": 5,
   "metadata": {},
   "outputs": [
    {
     "data": {
      "text/html": [
       "<div>\n",
       "<style scoped>\n",
       "    .dataframe tbody tr th:only-of-type {\n",
       "        vertical-align: middle;\n",
       "    }\n",
       "\n",
       "    .dataframe tbody tr th {\n",
       "        vertical-align: top;\n",
       "    }\n",
       "\n",
       "    .dataframe thead th {\n",
       "        text-align: right;\n",
       "    }\n",
       "</style>\n",
       "<table border=\"1\" class=\"dataframe\">\n",
       "  <thead>\n",
       "    <tr style=\"text-align: right;\">\n",
       "      <th></th>\n",
       "      <th>post_id</th>\n",
       "      <th>parent_id</th>\n",
       "      <th>comment_id</th>\n",
       "      <th>text</th>\n",
       "      <th>category</th>\n",
       "    </tr>\n",
       "  </thead>\n",
       "  <tbody>\n",
       "    <tr>\n",
       "      <th>494679</th>\n",
       "      <td>381701</td>\n",
       "      <td>NaN</td>\n",
       "      <td>717918.0</td>\n",
       "      <td>@NickCox Thank you for this clarification and ...</td>\n",
       "      <td>comment</td>\n",
       "    </tr>\n",
       "    <tr>\n",
       "      <th>25745</th>\n",
       "      <td>408432</td>\n",
       "      <td>NaN</td>\n",
       "      <td>NaN</td>\n",
       "      <td>dirichlet distribution and excessively large n...</td>\n",
       "      <td>title</td>\n",
       "    </tr>\n",
       "    <tr>\n",
       "      <th>683315</th>\n",
       "      <td>328876</td>\n",
       "      <td>NaN</td>\n",
       "      <td>623192.0</td>\n",
       "      <td>Sorry, I tried to copy my output from SAS usin...</td>\n",
       "      <td>comment</td>\n",
       "    </tr>\n",
       "  </tbody>\n",
       "</table>\n",
       "</div>"
      ],
      "text/plain": [
       "        post_id  parent_id  comment_id  \\\n",
       "494679   381701        NaN    717918.0   \n",
       "25745    408432        NaN         NaN   \n",
       "683315   328876        NaN    623192.0   \n",
       "\n",
       "                                                     text category  \n",
       "494679  @NickCox Thank you for this clarification and ...  comment  \n",
       "25745   dirichlet distribution and excessively large n...    title  \n",
       "683315  Sorry, I tried to copy my output from SAS usin...  comment  "
      ]
     },
     "execution_count": 5,
     "metadata": {},
     "output_type": "execute_result"
    }
   ],
   "source": [
    "df.sample(3)"
   ]
  },
  {
   "cell_type": "code",
   "execution_count": 6,
   "metadata": {},
   "outputs": [
    {
     "data": {
      "text/plain": [
       "(28171,)"
      ]
     },
     "execution_count": 6,
     "metadata": {},
     "output_type": "execute_result"
    }
   ],
   "source": [
    "df[df[\"text\"].str.len() > 2000][\"text\"].shape"
   ]
  },
  {
   "cell_type": "markdown",
   "metadata": {},
   "source": [
    "* post_id: A post can be a question or an answer to the original question. Original questions have a title. \n",
    "* parent_id: Posts with a parent_id are answers to the original post.\n",
    "* comment_id: Comments\n",
    "* text: A title, post, or comment\n",
    "* category:\n",
    "* * title: Titles are usually one sentence long and may be similar to the following examples:\n",
    "        Question on how to construct a confidence interval\n",
    "        Choosing model from Walk-Forward CV for Time Series\n",
    "* * post: HTML-formatted paragraphs that contain the following:\n",
    "        HTML tags\n",
    "        URLs\n",
    "        math equations in LaTeX\n",
    "        sometimes large tables of numbers\n",
    "* comment: Comments are shorter than posts. They are simple text paragraphs that can also contain URLs, math equations, and numbers but no HTML tags."
   ]
  },
  {
   "cell_type": "code",
   "execution_count": 7,
   "metadata": {},
   "outputs": [],
   "source": [
    "# Pattern to remove\n",
    "regexp = re.compile(    r\"<.*?>|\"     # HTML tags\n",
    "    r\"\\$.*?\\$|\"   # LaTeX expressions\n",
    "    r\"http[s]?://\\S+|\"  # URLs\n",
    "    r\"\\d+|\"       # Digits\n",
    "    r\"\\n|\"        # Line returns\n",
    "    r\"[^\\w\\s.,!?:]\"    # Non-word characters\n",
    "    )\n",
    "\n",
    "df['text'] = df['text'].apply(lambda text: regexp.sub(\"\", text))"
   ]
  },
  {
   "cell_type": "code",
   "execution_count": 8,
   "metadata": {},
   "outputs": [
    {
     "data": {
      "text/plain": [
       "True"
      ]
     },
     "execution_count": 8,
     "metadata": {},
     "output_type": "execute_result"
    }
   ],
   "source": [
    "# Check if there is empty text\n",
    "(df['text'] == \"\").any()"
   ]
  },
  {
   "cell_type": "code",
   "execution_count": 9,
   "metadata": {},
   "outputs": [
    {
     "name": "stdout",
     "output_type": "stream",
     "text": [
      "1114 col dropped\n"
     ]
    }
   ],
   "source": [
    "# Remove empty texts\n",
    "count = df.shape[0]\n",
    "df = df.drop(df[df[\"text\"]==\"\"].index)\n",
    "print(f\"{count - df.shape[0]} col dropped\")"
   ]
  },
  {
   "cell_type": "code",
   "execution_count": 10,
   "metadata": {},
   "outputs": [
    {
     "name": "stdout",
     "output_type": "stream",
     "text": [
      "499933 col dropped\n"
     ]
    }
   ],
   "source": [
    "# Remove texts that are extremely large or too short\n",
    "min_text = 255 # char\n",
    "max_text = 2000 # char\n",
    "\n",
    "count = df.shape[0]\n",
    "df = df.drop(df[(df['text'].str.len() < min_text)|(df['text'].str.len() > max_text)].index)\n",
    "print(f\"{count - df.shape[0]} col dropped\")"
   ]
  },
  {
   "cell_type": "code",
   "execution_count": 11,
   "metadata": {},
   "outputs": [
    {
     "data": {
      "text/plain": [
       "'. I do not know much about forecasting and especially not about forecasting with Gaussian Processes. But, I imagine that there will be certain special kernels involved that allow you to project the trend outside the domain of the sample like in the link of your questions the periodic kernel is used to project the period to outside the range. If you construct some confidencecredible interval then wouldnt this interval increase in size for predictions further away from the measurement points?'"
      ]
     },
     "execution_count": 11,
     "metadata": {},
     "output_type": "execute_result"
    }
   ],
   "source": [
    "test_text = df['text'].sample().values[0]\n",
    "test_text"
   ]
  },
  {
   "cell_type": "code",
   "execution_count": 12,
   "metadata": {},
   "outputs": [],
   "source": [
    "# Use a tokenizer to create a version of the original text that is a string of space-separated lowercase tokens\n",
    "import spacy\n",
    "\n",
    "# Load the English model\n",
    "nlp = spacy.load('en_core_web_sm')\n",
    "\n",
    "# Process the text\n",
    "doc = nlp(test_text)\n",
    "\n",
    "# Tokenize and convert to lowercase\n",
    "tokens = [token.text.lower() for token in doc]\n",
    "\n",
    "# Join the tokens back into a string\n",
    "processed_text = ' '.join(tokens)\n"
   ]
  },
  {
   "cell_type": "code",
   "execution_count": 13,
   "metadata": {},
   "outputs": [
    {
     "name": "stderr",
     "output_type": "stream",
     "text": [
      " 17%|█▋        | 53248/311085 [04:46<23:03, 186.31it/s]"
     ]
    }
   ],
   "source": [
    "from tqdm import tqdm\n",
    "nlp = spacy.load('en_core_web_sm', disable=['parser', 'ner'])  # Disable unnecessary components\n",
    "def process_texts(texts):\n",
    "    docs = nlp.pipe(texts)\n",
    "    return [[token.text.lower() for token in doc] for doc in docs].join(\" \")\n",
    "\n",
    "df['tokens'] = process_texts(tqdm(df['text']))"
   ]
  },
  {
   "cell_type": "code",
   "execution_count": 45,
   "metadata": {},
   "outputs": [
    {
     "data": {
      "text/html": [
       "<div>\n",
       "<style scoped>\n",
       "    .dataframe tbody tr th:only-of-type {\n",
       "        vertical-align: middle;\n",
       "    }\n",
       "\n",
       "    .dataframe tbody tr th {\n",
       "        vertical-align: top;\n",
       "    }\n",
       "\n",
       "    .dataframe thead th {\n",
       "        text-align: right;\n",
       "    }\n",
       "</style>\n",
       "<table border=\"1\" class=\"dataframe\">\n",
       "  <thead>\n",
       "    <tr style=\"text-align: right;\">\n",
       "      <th></th>\n",
       "      <th>post_id</th>\n",
       "      <th>parent_id</th>\n",
       "      <th>comment_id</th>\n",
       "      <th>text</th>\n",
       "      <th>category</th>\n",
       "      <th>tokens</th>\n",
       "    </tr>\n",
       "  </thead>\n",
       "  <tbody>\n",
       "    <tr>\n",
       "      <th>115024</th>\n",
       "      <td>46129</td>\n",
       "      <td>40641.0</td>\n",
       "      <td>NaN</td>\n",
       "      <td>I think the measure you are looking for is cal...</td>\n",
       "      <td>post</td>\n",
       "      <td>[i, think, the, measure, you, are, looking, fo...</td>\n",
       "    </tr>\n",
       "    <tr>\n",
       "      <th>653696</th>\n",
       "      <td>124719</td>\n",
       "      <td>NaN</td>\n",
       "      <td>237719.0</td>\n",
       "      <td>Correct  Xs and Y. The response Y is whether t...</td>\n",
       "      <td>comment</td>\n",
       "      <td>[correct,  , xs, and, y., the, response, y, is...</td>\n",
       "    </tr>\n",
       "    <tr>\n",
       "      <th>146972</th>\n",
       "      <td>416674</td>\n",
       "      <td>NaN</td>\n",
       "      <td>NaN</td>\n",
       "      <td>It is relatively straightforward when I want t...</td>\n",
       "      <td>post</td>\n",
       "      <td>[it, is, relatively, straightforward, when, i,...</td>\n",
       "    </tr>\n",
       "  </tbody>\n",
       "</table>\n",
       "</div>"
      ],
      "text/plain": [
       "        post_id  parent_id  comment_id  \\\n",
       "115024    46129    40641.0         NaN   \n",
       "653696   124719        NaN    237719.0   \n",
       "146972   416674        NaN         NaN   \n",
       "\n",
       "                                                     text category  \\\n",
       "115024  I think the measure you are looking for is cal...     post   \n",
       "653696  Correct  Xs and Y. The response Y is whether t...  comment   \n",
       "146972  It is relatively straightforward when I want t...     post   \n",
       "\n",
       "                                                   tokens  \n",
       "115024  [i, think, the, measure, you, are, looking, fo...  \n",
       "653696  [correct,  , xs, and, y., the, response, y, is...  \n",
       "146972  [it, is, relatively, straightforward, when, i,...  "
      ]
     },
     "execution_count": 45,
     "metadata": {},
     "output_type": "execute_result"
    }
   ],
   "source": [
    "df.sample(3)"
   ]
  },
  {
   "cell_type": "code",
   "execution_count": 46,
   "metadata": {},
   "outputs": [],
   "source": [
    "df.to_csv(\"output.csv\")"
   ]
  },
  {
   "cell_type": "code",
   "execution_count": null,
   "metadata": {},
   "outputs": [],
   "source": [
    "df."
   ]
  }
 ],
 "metadata": {
  "kernelspec": {
   "display_name": "Python 3",
   "language": "python",
   "name": "python3"
  },
  "language_info": {
   "codemirror_mode": {
    "name": "ipython",
    "version": 3
   },
   "file_extension": ".py",
   "mimetype": "text/x-python",
   "name": "python",
   "nbconvert_exporter": "python",
   "pygments_lexer": "ipython3",
   "version": "3.10.12"
  }
 },
 "nbformat": 4,
 "nbformat_minor": 2
}
